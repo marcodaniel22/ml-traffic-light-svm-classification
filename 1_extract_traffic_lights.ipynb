{
 "cells": [
  {
   "cell_type": "code",
   "execution_count": 1,
   "metadata": {},
   "outputs": [],
   "source": [
    "import pandas as pd\n",
    "import re\n",
    "import numpy as np\n",
    "import cv2"
   ]
  },
  {
   "cell_type": "code",
   "execution_count": 5,
   "metadata": {},
   "outputs": [],
   "source": [
    "anottation_folder = \"Annotations/\"\n",
    "daySequence_folder = \"daySequence%i/\"\n",
    "dayTrain_folder = \"dayTrain/\"\n",
    "dayClip_folder = \"dayClip%i/\"\n",
    "frames_foldeer = \"frames/\"\n",
    "\n",
    "annotation_file = \"frameAnnotationsBOX.csv\""
   ]
  },
  {
   "cell_type": "code",
   "execution_count": 3,
   "metadata": {},
   "outputs": [],
   "source": [
    "def getFileName(path):\n",
    "    return re.findall(\"\\/([\\d\\w-]*.jpg)\", path)[0]"
   ]
  },
  {
   "cell_type": "markdown",
   "metadata": {},
   "source": [
    "# dayTrain"
   ]
  },
  {
   "cell_type": "code",
   "execution_count": 93,
   "metadata": {},
   "outputs": [
    {
     "name": "stdout",
     "output_type": "stream",
     "text": [
      "dayClip1/\n",
      "dayClip2/\n",
      "dayClip3/\n",
      "dayClip4/\n",
      "dayClip5/\n",
      "dayClip6/\n",
      "dayClip7/\n",
      "dayClip8/\n",
      "dayClip9/\n",
      "dayClip10/\n",
      "dayClip11/\n",
      "dayClip12/\n",
      "dayClip13/\n"
     ]
    }
   ],
   "source": [
    "dayClip_list = []\n",
    "\n",
    "for i in range(1,14):\n",
    "    print((dayClip_folder % i))\n",
    "    dayTrain = pd.read_csv(anottation_folder+dayTrain_folder+(dayClip_folder % i)+annotation_file, sep=\";\")\n",
    "    dayTrain[\"Filename\"] = dayTrain[\"Filename\"].apply(lambda filename: getFileName(filename))\n",
    "    dayTrain = dayTrain.drop([\"Origin file\", \"Origin frame number\", \"Origin track\", \"Origin track frame number\"], axis=1)\n",
    "    for index, row in dayTrain.iterrows():\n",
    "        filename = row[\"Filename\"]\n",
    "        img = cv2.imread(dayTrain_folder+(dayClip_folder % i)+frames_foldeer+filename)\n",
    "        x1 = row[\"Upper left corner X\"]\n",
    "        y1 = row[\"Upper left corner Y\"]\n",
    "        x2 = row[\"Lower right corner X\"]\n",
    "        y2 = row[\"Lower right corner Y\"]\n",
    "        crop_img = img[y1:y2, x1:x2]\n",
    "        target = row[\"Annotation tag\"]+\"/\"\n",
    "        cv2.imwrite(dayTrain_folder+target+filename, crop_img)\n",
    "    dayClip_list.append(dayTrain)"
   ]
  },
  {
   "cell_type": "code",
   "execution_count": 106,
   "metadata": {},
   "outputs": [],
   "source": [
    "dayClip_df = pd.concat(dayClip_list)\n",
    "go_df = dayClip_df[dayClip_df[\"Annotation tag\"] == \"go\"]\n",
    "stop_df = dayClip_df[dayClip_df[\"Annotation tag\"] == \"stop\"]\n",
    "warning_df = dayClip_df[dayClip_df[\"Annotation tag\"] == \"warning\"]\n",
    "dayClip_df = pd.concat([go_df, stop_df, warning_df])\n",
    "dayClip_df.to_csv(dayTrain_folder+\"dayTrain.csv\", index=False)"
   ]
  },
  {
   "cell_type": "markdown",
   "metadata": {},
   "source": [
    "# daySequence"
   ]
  },
  {
   "cell_type": "code",
   "execution_count": 6,
   "metadata": {},
   "outputs": [
    {
     "name": "stdout",
     "output_type": "stream",
     "text": [
      "daySequence1/\n",
      "daySequence2/\n"
     ]
    }
   ],
   "source": [
    "def getDaySequenceByNumber(i):\n",
    "    print((daySequence_folder % i))\n",
    "    daySequence = pd.read_csv(anottation_folder+(daySequence_folder % i)+annotation_file, sep=\";\")\n",
    "    daySequence[\"Filename\"] = daySequence[\"Filename\"].apply(lambda filename: getFileName(filename))\n",
    "    daySequence = daySequence.drop([\"Origin file\", \"Origin frame number\", \"Origin track\", \"Origin track frame number\"], axis=1)\n",
    "    for index, row in daySequence.iterrows():\n",
    "        filename = row[\"Filename\"]\n",
    "        img = cv2.imread((daySequence_folder % i)+frames_foldeer+filename)\n",
    "        x1 = row[\"Upper left corner X\"]\n",
    "        y1 = row[\"Upper left corner Y\"]\n",
    "        x2 = row[\"Lower right corner X\"]\n",
    "        y2 = row[\"Lower right corner Y\"]\n",
    "        crop_img = img[y1:y2, x1:x2]\n",
    "        target = row[\"Annotation tag\"]+\"/\"\n",
    "        cv2.imwrite((daySequence_folder % i)+target+filename, crop_img)\n",
    "    return daySequence\n",
    "    \n",
    "daySequence1_list = getDaySequenceByNumber(1)\n",
    "daySequence2_list = getDaySequenceByNumber(2)"
   ]
  },
  {
   "cell_type": "code",
   "execution_count": 7,
   "metadata": {},
   "outputs": [],
   "source": [
    "go_df = daySequence1_list[daySequence1_list[\"Annotation tag\"] == \"go\"]\n",
    "stop_df = daySequence1_list[daySequence1_list[\"Annotation tag\"] == \"stop\"]\n",
    "warning_df = daySequence1_list[daySequence1_list[\"Annotation tag\"] == \"warning\"]\n",
    "daySequence1_list = pd.concat([go_df, stop_df, warning_df])\n",
    "daySequence1_list.to_csv((daySequence_folder % 1)+\"daySequence1.csv\", index=False)\n",
    "\n",
    "go_df = daySequence2_list[daySequence2_list[\"Annotation tag\"] == \"go\"]\n",
    "stop_df = daySequence2_list[daySequence2_list[\"Annotation tag\"] == \"stop\"]\n",
    "warning_df = daySequence2_list[daySequence2_list[\"Annotation tag\"] == \"warning\"]\n",
    "daySequence2_list = pd.concat([go_df, stop_df, warning_df])\n",
    "daySequence2_list.to_csv((daySequence_folder % 2)+\"daySequence2.csv\", index=False)"
   ]
  }
 ],
 "metadata": {
  "kernelspec": {
   "display_name": "Python 3",
   "language": "python",
   "name": "python3"
  },
  "language_info": {
   "codemirror_mode": {
    "name": "ipython",
    "version": 3
   },
   "file_extension": ".py",
   "mimetype": "text/x-python",
   "name": "python",
   "nbconvert_exporter": "python",
   "pygments_lexer": "ipython3",
   "version": "3.7.4"
  }
 },
 "nbformat": 4,
 "nbformat_minor": 2
}
